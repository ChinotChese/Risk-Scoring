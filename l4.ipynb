{
 "cells": [
  {
   "attachments": {},
   "cell_type": "markdown",
   "metadata": {},
   "source": [
    "# Beta and S&P 500"
   ]
  },
  {
   "cell_type": "code",
   "execution_count": 1,
   "metadata": {},
   "outputs": [
    {
     "name": "stdout",
     "output_type": "stream",
     "text": [
      "[*********************100%***********************]  5 of 5 completed\n"
     ]
    }
   ],
   "source": [
    "import numpy as np\n",
    "import pandas as pd\n",
    "import yfinance as yf\n",
    "from sklearn.linear_model import LinearRegression\n",
    "\n",
    "tickers = ['AAPL', 'MSFT', 'AMZN', 'IBM', '^GSPC']\n",
    "data = yf.download(tickers, period='12mo', interval='1d')\n",
    "data = data['Adj Close']\n",
    "log_return = np.log(data/data.shift())"
   ]
  },
  {
   "attachments": {},
   "cell_type": "markdown",
   "metadata": {},
   "source": [
    "### step to calculate Beta\n",
    "$$cov_{x, y} = \\frac{\\Sigma(x-\\bar{x})(y-\\bar{y})}{N-1}$$\n",
    "$$var_y = \\frac{\\Sigma(y-\\bar{y})^2}{N-1}$$\n",
    "$$Beta = \\frac{cov_{x, y}}{var_y} = \\frac{\\Sigma(x-\\bar{x})(y-\\bar{y})}{\\Sigma(y-\\bar{y})^2}$$"
   ]
  },
  {
   "cell_type": "code",
   "execution_count": 9,
   "metadata": {},
   "outputs": [
    {
     "data": {
      "text/plain": [
       "0.5883809911683809"
      ]
     },
     "execution_count": 9,
     "metadata": {},
     "output_type": "execute_result"
    }
   ],
   "source": [
    "cov = log_return.cov()\n",
    "var = log_return['AAPL'].var()\n",
    "cov.loc['AAPL', '^GSPC']/var"
   ]
  },
  {
   "cell_type": "code",
   "execution_count": 5,
   "metadata": {},
   "outputs": [
    {
     "data": {
      "text/html": [
       "<div>\n",
       "<style scoped>\n",
       "    .dataframe tbody tr th:only-of-type {\n",
       "        vertical-align: middle;\n",
       "    }\n",
       "\n",
       "    .dataframe tbody tr th {\n",
       "        vertical-align: top;\n",
       "    }\n",
       "\n",
       "    .dataframe thead th {\n",
       "        text-align: right;\n",
       "    }\n",
       "</style>\n",
       "<table border=\"1\" class=\"dataframe\">\n",
       "  <thead>\n",
       "    <tr style=\"text-align: right;\">\n",
       "      <th></th>\n",
       "      <th>AAPL</th>\n",
       "      <th>AMZN</th>\n",
       "      <th>IBM</th>\n",
       "      <th>MSFT</th>\n",
       "      <th>^GSPC</th>\n",
       "    </tr>\n",
       "    <tr>\n",
       "      <th>Date</th>\n",
       "      <th></th>\n",
       "      <th></th>\n",
       "      <th></th>\n",
       "      <th></th>\n",
       "      <th></th>\n",
       "    </tr>\n",
       "  </thead>\n",
       "  <tbody>\n",
       "    <tr>\n",
       "      <th>2022-03-31</th>\n",
       "      <td>NaN</td>\n",
       "      <td>NaN</td>\n",
       "      <td>NaN</td>\n",
       "      <td>NaN</td>\n",
       "      <td>NaN</td>\n",
       "    </tr>\n",
       "    <tr>\n",
       "      <th>2022-04-01</th>\n",
       "      <td>-0.001720</td>\n",
       "      <td>0.003445</td>\n",
       "      <td>0.000999</td>\n",
       "      <td>0.003594</td>\n",
       "      <td>0.003404</td>\n",
       "    </tr>\n",
       "    <tr>\n",
       "      <th>2022-04-04</th>\n",
       "      <td>0.023417</td>\n",
       "      <td>0.028844</td>\n",
       "      <td>0.000922</td>\n",
       "      <td>0.017778</td>\n",
       "      <td>0.008058</td>\n",
       "    </tr>\n",
       "    <tr>\n",
       "      <th>2022-04-05</th>\n",
       "      <td>-0.019124</td>\n",
       "      <td>-0.025823</td>\n",
       "      <td>-0.010650</td>\n",
       "      <td>-0.013071</td>\n",
       "      <td>-0.012631</td>\n",
       "    </tr>\n",
       "    <tr>\n",
       "      <th>2022-04-06</th>\n",
       "      <td>-0.018623</td>\n",
       "      <td>-0.032833</td>\n",
       "      <td>0.003872</td>\n",
       "      <td>-0.037293</td>\n",
       "      <td>-0.009764</td>\n",
       "    </tr>\n",
       "  </tbody>\n",
       "</table>\n",
       "</div>"
      ],
      "text/plain": [
       "                AAPL      AMZN       IBM      MSFT     ^GSPC\n",
       "Date                                                        \n",
       "2022-03-31       NaN       NaN       NaN       NaN       NaN\n",
       "2022-04-01 -0.001720  0.003445  0.000999  0.003594  0.003404\n",
       "2022-04-04  0.023417  0.028844  0.000922  0.017778  0.008058\n",
       "2022-04-05 -0.019124 -0.025823 -0.010650 -0.013071 -0.012631\n",
       "2022-04-06 -0.018623 -0.032833  0.003872 -0.037293 -0.009764"
      ]
     },
     "execution_count": 5,
     "metadata": {},
     "output_type": "execute_result"
    }
   ],
   "source": [
    "log_return.head()"
   ]
  },
  {
   "cell_type": "code",
   "execution_count": 8,
   "metadata": {},
   "outputs": [
    {
     "name": "stdout",
     "output_type": "stream",
     "text": [
      "[[0.58838099]]\n"
     ]
    }
   ],
   "source": [
    "X = log_return['AAPL'].iloc[1:].to_numpy().reshape(-1, 1)\n",
    "Y = log_return['^GSPC'].iloc[1:].to_numpy().reshape(-1, 1)\n",
    "lr = LinearRegression()\n",
    "lr.fit(X, Y)\n",
    "print(lr.coef_)"
   ]
  },
  {
   "attachments": {},
   "cell_type": "markdown",
   "metadata": {},
   "source": [
    "# Capital Asset Pricing Model (CAPM)"
   ]
  },
  {
   "attachments": {},
   "cell_type": "markdown",
   "metadata": {},
   "source": [
    "**Formula**\n",
    "$$ER_i = R_f + \\Beta_i(ER_m-R_f)$$\n",
    "* $ER_i$: Expected return from investment\n",
    "* $R_f$: Risk free return\n",
    "* $\\Beta_i$: The beta of the investment\n",
    "* (ER_m - R_f): Market risk premium"
   ]
  },
  {
   "cell_type": "code",
   "execution_count": 10,
   "metadata": {},
   "outputs": [
    {
     "data": {
      "text/html": [
       "<div>\n",
       "<style scoped>\n",
       "    .dataframe tbody tr th:only-of-type {\n",
       "        vertical-align: middle;\n",
       "    }\n",
       "\n",
       "    .dataframe tbody tr th {\n",
       "        vertical-align: top;\n",
       "    }\n",
       "\n",
       "    .dataframe thead th {\n",
       "        text-align: right;\n",
       "    }\n",
       "</style>\n",
       "<table border=\"1\" class=\"dataframe\">\n",
       "  <thead>\n",
       "    <tr style=\"text-align: right;\">\n",
       "      <th></th>\n",
       "      <th>AAPL</th>\n",
       "      <th>AMZN</th>\n",
       "      <th>IBM</th>\n",
       "      <th>MSFT</th>\n",
       "      <th>^GSPC</th>\n",
       "    </tr>\n",
       "    <tr>\n",
       "      <th>Date</th>\n",
       "      <th></th>\n",
       "      <th></th>\n",
       "      <th></th>\n",
       "      <th></th>\n",
       "      <th></th>\n",
       "    </tr>\n",
       "  </thead>\n",
       "  <tbody>\n",
       "    <tr>\n",
       "      <th>2022-03-31</th>\n",
       "      <td>NaN</td>\n",
       "      <td>NaN</td>\n",
       "      <td>NaN</td>\n",
       "      <td>NaN</td>\n",
       "      <td>NaN</td>\n",
       "    </tr>\n",
       "    <tr>\n",
       "      <th>2022-04-01</th>\n",
       "      <td>-0.001720</td>\n",
       "      <td>0.003445</td>\n",
       "      <td>0.000999</td>\n",
       "      <td>0.003594</td>\n",
       "      <td>0.003404</td>\n",
       "    </tr>\n",
       "    <tr>\n",
       "      <th>2022-04-04</th>\n",
       "      <td>0.023417</td>\n",
       "      <td>0.028844</td>\n",
       "      <td>0.000922</td>\n",
       "      <td>0.017778</td>\n",
       "      <td>0.008058</td>\n",
       "    </tr>\n",
       "    <tr>\n",
       "      <th>2022-04-05</th>\n",
       "      <td>-0.019124</td>\n",
       "      <td>-0.025823</td>\n",
       "      <td>-0.010650</td>\n",
       "      <td>-0.013071</td>\n",
       "      <td>-0.012631</td>\n",
       "    </tr>\n",
       "    <tr>\n",
       "      <th>2022-04-06</th>\n",
       "      <td>-0.018623</td>\n",
       "      <td>-0.032833</td>\n",
       "      <td>0.003872</td>\n",
       "      <td>-0.037293</td>\n",
       "      <td>-0.009764</td>\n",
       "    </tr>\n",
       "  </tbody>\n",
       "</table>\n",
       "</div>"
      ],
      "text/plain": [
       "                AAPL      AMZN       IBM      MSFT     ^GSPC\n",
       "Date                                                        \n",
       "2022-03-31       NaN       NaN       NaN       NaN       NaN\n",
       "2022-04-01 -0.001720  0.003445  0.000999  0.003594  0.003404\n",
       "2022-04-04  0.023417  0.028844  0.000922  0.017778  0.008058\n",
       "2022-04-05 -0.019124 -0.025823 -0.010650 -0.013071 -0.012631\n",
       "2022-04-06 -0.018623 -0.032833  0.003872 -0.037293 -0.009764"
      ]
     },
     "execution_count": 10,
     "metadata": {},
     "output_type": "execute_result"
    }
   ],
   "source": [
    "log_return.head()"
   ]
  },
  {
   "cell_type": "code",
   "execution_count": 12,
   "metadata": {},
   "outputs": [],
   "source": [
    "cov = log_return.cov()\n",
    "var = log_return['^GSPC'].var()\n",
    "beta = cov.loc['AAPL', '^GSPC']/var\n",
    "risk_free_return = 0.0138\n",
    "market_return = .105\n",
    "expected_return = risk_free_return + beta*(market_return - risk_free_return)"
   ]
  },
  {
   "cell_type": "code",
   "execution_count": 13,
   "metadata": {},
   "outputs": [
    {
     "data": {
      "text/plain": [
       "0.13297833577776907"
      ]
     },
     "execution_count": 13,
     "metadata": {},
     "output_type": "execute_result"
    }
   ],
   "source": [
    "expected_return"
   ]
  },
  {
   "cell_type": "code",
   "execution_count": 14,
   "metadata": {},
   "outputs": [],
   "source": [
    "cov = log_return.cov()\n",
    "var = log_return['^GSPC'].var()\n",
    "beta = cov.loc['^GSPC']/var\n",
    "risk_free_return = 0.0138\n",
    "market_return = .105\n",
    "expected_return = risk_free_return + beta*(market_return - risk_free_return)"
   ]
  },
  {
   "cell_type": "code",
   "execution_count": 15,
   "metadata": {},
   "outputs": [
    {
     "data": {
      "text/plain": [
       "AAPL     0.132978\n",
       "AMZN     0.165998\n",
       "IBM      0.065220\n",
       "MSFT     0.129769\n",
       "^GSPC    0.105000\n",
       "Name: ^GSPC, dtype: float64"
      ]
     },
     "execution_count": 15,
     "metadata": {},
     "output_type": "execute_result"
    }
   ],
   "source": [
    "expected_return"
   ]
  },
  {
   "cell_type": "code",
   "execution_count": null,
   "metadata": {},
   "outputs": [],
   "source": []
  }
 ],
 "metadata": {
  "kernelspec": {
   "display_name": "rs_venv",
   "language": "python",
   "name": "python3"
  },
  "language_info": {
   "codemirror_mode": {
    "name": "ipython",
    "version": 3
   },
   "file_extension": ".py",
   "mimetype": "text/x-python",
   "name": "python",
   "nbconvert_exporter": "python",
   "pygments_lexer": "ipython3",
   "version": "3.11.2"
  },
  "orig_nbformat": 4,
  "vscode": {
   "interpreter": {
    "hash": "15b491c270d57c2ad75b7a19f965f178b0afb18582d56d1a64d4baedf5023ee4"
   }
  }
 },
 "nbformat": 4,
 "nbformat_minor": 2
}
